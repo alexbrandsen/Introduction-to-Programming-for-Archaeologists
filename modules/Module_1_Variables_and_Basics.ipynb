{
 "cells": [
  {
   "cell_type": "markdown",
   "metadata": {
    "id": "wtEguwYoTJJg"
   },
   "source": [
    "# Module 1: Variables & Basics\n",
    "\n",
    "In this module you'll learn about:\n",
    "\n",
    "- Assigning variables\n",
    "- The print() function\n",
    "- Comments\n",
    "- Variable types (int, float, string, boolean)\n",
    "- Combining variables\n",
    "- Debugging\n",
    "- if / else statements\n",
    "\n",
    "Everyone can learn how to program and the best way to learn is by doing. In this tutorial you will be asked to write a lot of code. Click any block of code in this tutorial, such as the one below, and press CTRL + ENTER to run it. You can also press the \"Run\" button at the top of the screen. Go try and run the code block below!"
   ]
  },
  {
   "cell_type": "code",
   "execution_count": null,
   "metadata": {},
   "outputs": [],
   "source": [
    "print(\"Let's get started!\")\n"
   ]
  },
  {
   "cell_type": "markdown",
   "metadata": {},
   "source": [
    "Great! You have executed your first bit of Python code! These blocks of code are called 'Cells' in Jupyter notebooks.\n",
    "\n",
    "\n",
    "## Variables\n",
    "\n",
    "We can assign values to variables using the `=` operator. A variable is just a name we give to a particular value, you can imagine it as a drawer you put a certain thing (or value) into, and on which you write a name with a black marker. The following code block contains two operations. First, we assign the value 42 to the name `number_of_sherds`. After that `number_of_sherds` will hold the value 42. You might say Python stored the value 42 in `number_of_sherds`. \n",
    "\n",
    "Finally we print the value using the `print()` function. This command just outputs ('prints') whatever you put in between the brackets, so you can see it in your Jupyter notebook. \n",
    "\n",
    "(Tip: You can recognise functions by the brackets after the name of the function.)"
   ]
  },
  {
   "cell_type": "code",
   "execution_count": null,
   "metadata": {
    "id": "how1RUwHTRIE"
   },
   "outputs": [],
   "source": [
    "number_of_sherds = 42\n",
    "\n",
    "print(number_of_sherds)"
   ]
  },
  {
   "cell_type": "markdown",
   "metadata": {},
   "source": [
    "Now that we stored the value 42 in `number_of_sherds`, we can use the variable `number_of_sherds` to do things like the following:"
   ]
  },
  {
   "cell_type": "code",
   "execution_count": null,
   "metadata": {},
   "outputs": [],
   "source": [
    "print(number_of_sherds + 8)\n",
    "print(number_of_sherds * 2)\n",
    "print(number_of_sherds / 2)"
   ]
  },
  {
   "cell_type": "markdown",
   "metadata": {},
   "source": [
    "Can you figure out what is happening here? \n",
    "\n",
    "Python uses the following symbols for different math operations:\n",
    "\n",
    "- `+` for addition\n",
    "- `-` for subtraction\n",
    "- `*` for multiplication\n",
    "- `/` for division\n",
    "- and the lesser used `**` for exponents (power calculation)\n",
    "\n",
    "Now it's already time for your first exercise! In the cell below, underneath the line that says `## EXERCISE ##` create a new variable named `favourite_number` and assign your favourite number to it. Then print your favourite number. \n",
    "\n"
   ]
  },
  {
   "cell_type": "code",
   "execution_count": null,
   "metadata": {},
   "outputs": [],
   "source": [
    "## EXERCISE ##\n"
   ]
  },
  {
   "cell_type": "markdown",
   "metadata": {},
   "source": [
    "So `number_of_sherds` and `favourite_number` contained numbers, but variables are not just numbers. They can also be text. These are called strings. For example:"
   ]
  },
  {
   "cell_type": "code",
   "execution_count": null,
   "metadata": {},
   "outputs": [],
   "source": [
    "site_name = 'Oss'\n",
    "print(site_name)"
   ]
  },
  {
   "cell_type": "markdown",
   "metadata": {},
   "source": [
    "A string in Python must be enclosed with quotes (either single or double quotes). Without those quotes Python thinks its dealing with variables that have been defined earlier. `site_name` is a variable to which we assign the string `\"Oss\"`.\n",
    "\n",
    "Variable names can be chosen arbitrarily. *We* give a certain value a name, and we are free to pick one to our liking. It is, however, recommended to use senseful names as we will use the variable names in our code directly and not the values they hold. Do you understand the variables defined in the cell below?"
   ]
  },
  {
   "cell_type": "code",
   "execution_count": null,
   "metadata": {},
   "outputs": [],
   "source": [
    "smw  = 56.98\n",
    "a = \"flint\""
   ]
  },
  {
   "cell_type": "markdown",
   "metadata": {},
   "source": [
    "You are free to use the name `smw` to hold the maximum width of a spearhead, or `a` to hold the artefact type, but you will agree that this naming is not transparent... Update the variable names above to ones that make more sense to you, and are easy to understand.\n",
    "\n",
    "## Updating and combining variables\n",
    "\n",
    "Once we have defined a variable, we can update and combine variables to do more complex computations. For example, in the cell below, we first define that we have 23 sites, but then we find another one, so we update the variable: we add 1 more site to the total."
   ]
  },
  {
   "cell_type": "code",
   "execution_count": null,
   "metadata": {},
   "outputs": [],
   "source": [
    "number_of_sites = 23\n",
    "number_of_sites = number_of_sites + 1\n",
    "print(number_of_sites)\n"
   ]
  },
  {
   "cell_type": "markdown",
   "metadata": {},
   "source": [
    "Updates like these happen a lot. Python therefore provides a shortcut and you can write the same thing using `+=`:"
   ]
  },
  {
   "cell_type": "code",
   "execution_count": null,
   "metadata": {},
   "outputs": [],
   "source": [
    "number_of_sites += 1\n",
    "print(number_of_sites)"
   ]
  },
  {
   "cell_type": "markdown",
   "metadata": {},
   "source": [
    "Of course addition isn't the only thing we can do, we can also do e.g. multiplication:"
   ]
  },
  {
   "cell_type": "code",
   "execution_count": null,
   "metadata": {},
   "outputs": [],
   "source": [
    "number_of_sites = number_of_sites * 2\n",
    "print(number_of_sites)"
   ]
  },
  {
   "cell_type": "markdown",
   "metadata": {},
   "source": [
    "Besides changing the value of a variable, we can also combine variables, using various math operations. Here, we define the number of pottery artefacts found at an excavation, and the number of flint artefacts. Then we combine the two to get the total number of artefacts."
   ]
  },
  {
   "cell_type": "code",
   "execution_count": null,
   "metadata": {},
   "outputs": [],
   "source": [
    "number_of_pottery = 164\n",
    "number_of_flint = 273\n",
    "total_number_of_artefacts = number_of_pottery + number_of_flint\n",
    "print(total_number_of_artefacts)"
   ]
  },
  {
   "cell_type": "markdown",
   "metadata": {},
   "source": [
    "Did you see we combined `number_of_pottery` and `number_of_flint` together, and assigned it into a new variable called `total_number_of_artefacts`?\n",
    "\n",
    "We can also combine strings, but as these are bits of text and not numbers, we can't do all the math operators. We can use addition to join to strings together (also called concatenation):"
   ]
  },
  {
   "cell_type": "code",
   "execution_count": null,
   "metadata": {},
   "outputs": [],
   "source": [
    "name = 'Indiana Jones'\n",
    "favourite_artefact = 'gold statues'\n",
    "sentence = name + favourite_artefact\n",
    "print(sentence)"
   ]
  },
  {
   "cell_type": "markdown",
   "metadata": {},
   "source": [
    "Hmm, that doesn't look right. Let's add some more text to this sentence:"
   ]
  },
  {
   "cell_type": "code",
   "execution_count": null,
   "metadata": {},
   "outputs": [],
   "source": [
    "# update the sentence, then print it\n",
    "sentence = name + \" loves \" + favourite_artefact\n",
    "print(sentence)"
   ]
  },
  {
   "cell_type": "markdown",
   "metadata": {},
   "source": [
    "Did you see the first line of the cell above? It starts with a hashtag (`#`) which means it's a comment! \n",
    "\n",
    "## Comments\n",
    "\n",
    "Comments are not evaluated by Python, which means they don't do anything. They're just there to further explain what the code is doing. Some tips about comments:\n",
    "\n",
    "- Comment on everything that’s not immediately clear\n",
    "- Comment like you’re explaining the code to someone else (sometimes that 'someone else' is you, 4 months later!)\n",
    "- It's a bit of extra work, but saves time when you revisit your code\n",
    "\n",
    "Now you know how to assign variables, update variables, do math, and write comments, it's time for the next exercise. In the cell below, do the following steps:\n",
    "\n",
    "- Create a new variable called `chosen_number`, and assign any number between 1 and 10 to it (maybe use your favourite number?)\n",
    "- Multiply `chosen_number` by 2, and assign it to `calculating_number`\n",
    "- Multiply `calculating_number` by 5, and assign it back to `calculating_number`\n",
    "- Divide `calculating_number` by `chosen_number`, and assign it back to `calculating_number`\n",
    "- Subtract 7 from `calculating_number`, and assign it to `final_number`\n",
    "- Print `final_number`\n",
    "\n",
    "For each of the steps, write a comment to explain what you are doing"
   ]
  },
  {
   "cell_type": "code",
   "execution_count": null,
   "metadata": {},
   "outputs": [],
   "source": [
    "## EXERCISE ##\n"
   ]
  },
  {
   "cell_type": "markdown",
   "metadata": {},
   "source": [
    "Let me guess... Your final number is... 3?\n",
    "\n",
    "## (Combining) Variable Types & Debugging\n",
    "\n",
    "We already discussed number and string variables, but there is a third type that is often used: Boolean. A Boolean is a variable that can only contain 1 of 2 options: `True` or `False`. You can see a Boolean variable as a switch that is either on (true) or off (false). "
   ]
  },
  {
   "cell_type": "code",
   "execution_count": null,
   "metadata": {},
   "outputs": [],
   "source": [
    "# this is a boolean variable\n",
    "gold_found = True\n",
    "print(gold_found)"
   ]
  },
  {
   "cell_type": "markdown",
   "metadata": {},
   "source": [
    "Now we know the 3 basic variable types: numbers, strings and booleans. There's also more complicated ones, like lists, dictionaries and dataframes, but we will discuss these in the next session. \n",
    "\n",
    "Now let's combine variables from different types, and see what happens:"
   ]
  },
  {
   "cell_type": "code",
   "execution_count": null,
   "metadata": {},
   "outputs": [],
   "source": [
    "artefact_type = 'Flint'\n",
    "number_of_flint = 536\n",
    "\n",
    "print(artefact_type + number_of_flint)"
   ]
  },
  {
   "cell_type": "markdown",
   "metadata": {},
   "source": [
    "As `artefact_type` is a string, and `number_of_flint` is a number, Python doesn't understand what you want to do when you add them up. Logically, this also makes sense because no one knows what \"Flint\" plus 536 is!\n",
    "\n",
    "Now let's try and debug this. The first thing you want to do is read the error message, in this case `TypeError: can only concatenate str (not \"int\") to str`. Here, Python is telling you that you can not concatenate (join together) a `str` (a string) with an `int` (a whole number). If you don't know how to solve this problem - which will happen quite often - the first thing you want to do is Google the problem. Simply copy and paste the error into Google and see if you can find someone who has asked the same or a similar question. In this case, the easiest answer is to use the `str()` function to convert the `int` to a `str`."
   ]
  },
  {
   "cell_type": "code",
   "execution_count": null,
   "metadata": {},
   "outputs": [],
   "source": [
    "# convert number to string and print it!\n",
    "print(artefact_type + str(number_of_flint))"
   ]
  },
  {
   "cell_type": "markdown",
   "metadata": {},
   "source": [
    "Mini exercise: see if you can edit the cell above to make the final output above look like \"Flint: 536\"\n",
    "\n",
    "So using addition between numbers and strings doesn't work, but oddly enough, you *can* multiply a string by a number! What do you think happens when you run the following code? See if you can predict it before running!"
   ]
  },
  {
   "cell_type": "code",
   "execution_count": null,
   "metadata": {},
   "outputs": [],
   "source": [
    "# multiply a string\n",
    "print(artefact_type * 100)"
   ]
  },
  {
   "cell_type": "markdown",
   "metadata": {},
   "source": [
    "...perhaps not very useful, but it's possible. \n",
    "\n",
    "As we mentioned at the start of this module, `print()` is a function, and we just used the `str()` function. A function simply takes variable(s), does a computation, and then returns the result. Another one of these functions is `len()`. This function takes a string variable, counts the number of characters in that string, and then returns that number. We can print the output of the function, or assign it to a new variable:"
   ]
  },
  {
   "cell_type": "code",
   "execution_count": null,
   "metadata": {},
   "outputs": [],
   "source": [
    "# assign a string variable\n",
    "first_name = \"Indiana\"\n",
    "\n",
    "# print the number of characters in the first_name variable\n",
    "print(len(first_name))\n",
    "\n",
    "# save the number of characters in the new first_name_length variable\n",
    "first_name_length = len(first_name)\n",
    "\n",
    "# print first_name_length\n",
    "print(first_name_length)"
   ]
  },
  {
   "cell_type": "markdown",
   "metadata": {},
   "source": [
    "You see here that the `len()` function returns a value, and you can either store that value in a variable using `=`, or show the value using `print()`.\n",
    "\n",
    "## `if` Statements\n",
    "\n",
    "`if` statements check if a condition is `True`, and if so, it executes a bit of code. If the condition is `False`, the code is not executed. `if` statements are always ended by a colon (`:`), and the part of the code that falls under the `if` statement is indented: use the TAB button to indent. This is the *syntax* of the `if` statement in Python. This also makes it easier to read for humans!"
   ]
  },
  {
   "cell_type": "code",
   "execution_count": null,
   "metadata": {},
   "outputs": [],
   "source": [
    "# set gold_found to True\n",
    "gold_found = True\n",
    "\n",
    "# if we've found gold, print 'We are rich!'\n",
    "if gold_found:\n",
    "    print('We are rich!')\n"
   ]
  },
  {
   "cell_type": "markdown",
   "metadata": {},
   "source": [
    "Now change `gold_found` to `False` and run the cell again. What happens?\n",
    "\n",
    "We can also evaluate other conditions than just true/false, for example, if a string has a certain value, using the `==` operator:"
   ]
  },
  {
   "cell_type": "code",
   "execution_count": null,
   "metadata": {},
   "outputs": [],
   "source": [
    "objects_found = \"small walls\"\n",
    "\n",
    "if objects_found == \"small walls\":\n",
    "    print(\"Archaeologists always find a series of small walls...\")"
   ]
  },
  {
   "cell_type": "markdown",
   "metadata": {},
   "source": [
    "The `==` operator is different from `=`: a single `=` is used to assign a value to a variable, a double one (`==`) is used to check if two things are the same.\n",
    "\n",
    "If we're dealing with numbers, we can also check if a number is greater or smaller than another number, using the `<` (smaller than) and `>` (bigger than) operators:"
   ]
  },
  {
   "cell_type": "code",
   "execution_count": null,
   "metadata": {},
   "outputs": [],
   "source": [
    "car_max_weight = 100\n",
    "artefacts_weight = 50\n",
    "\n",
    "if artefacts_weight < car_max_weight:\n",
    "    print(\"Load more artefacts!\")\n",
    "    \n",
    "if artefacts_weight > car_max_weight:\n",
    "    print(\"Stop loading!\")\n"
   ]
  },
  {
   "cell_type": "markdown",
   "metadata": {},
   "source": [
    "Did you see how the first `if` statement was True, and the second was False? Now change `artefacts_weight` in the cell above to a value higher than 100 and run the code again. Now change `artefacts_weight` to exactly 100 and run the cell again. Did you expect the results?\n",
    "\n",
    "The problem is that when `artefacts_weight` is exactly the same as `car_max_weight`, neither `if` statement is true, and nothing happens. Let's fix that with the 'bigger than or equal to' operator: `=>`:"
   ]
  },
  {
   "cell_type": "code",
   "execution_count": null,
   "metadata": {},
   "outputs": [],
   "source": [
    "car_max_weight = 100\n",
    "artefacts_weight = 100\n",
    "\n",
    "if artefacts_weight < car_max_weight:\n",
    "    print(\"Load more artefacts!\")\n",
    "    \n",
    "if artefacts_weight >= car_max_weight:\n",
    "    print(\"Stop loading!\")"
   ]
  },
  {
   "cell_type": "markdown",
   "metadata": {},
   "source": [
    "We can also solve this problem by changing the second `if` statement to an `else` statement. The code in the `else` statement is executed if the previous `if` statement was False."
   ]
  },
  {
   "cell_type": "code",
   "execution_count": null,
   "metadata": {},
   "outputs": [],
   "source": [
    "car_max_weight = 100\n",
    "artefacts_weight = 100\n",
    "\n",
    "# if artefacts weigh less than the max weight that can go in a car: load more. else: stop loading\n",
    "if artefacts_weight < car_max_weight:\n",
    "    print(\"Load more artefacts!\")\n",
    "else:\n",
    "    print(\"Stop loading!\")"
   ]
  },
  {
   "cell_type": "markdown",
   "metadata": {},
   "source": [
    "In the `if` statement above, we checked just one condition: if the car could hold the artefacts. But we can also check multiple conditions at the same time, by using the `or` and `and` keywords:\n",
    "\n",
    "- Using `or` will return True if *one* of the two conditions are True\n",
    "- Using `and` will return True if *both* of the two conditions are True\n"
   ]
  },
  {
   "cell_type": "code",
   "execution_count": null,
   "metadata": {},
   "outputs": [],
   "source": [
    "sunlight = True\n",
    "water_available = 5\n",
    "\n",
    "# if we still have more than a liter of water, AND the sun is out, keep digging. Else, stop digging\n",
    "if water_available > 1 and sunlight:\n",
    "    print('Keep digging!')\n",
    "else:\n",
    "    print('Stop the excavation!')"
   ]
  },
  {
   "cell_type": "markdown",
   "metadata": {},
   "source": [
    "Now set `sunlight` to `False` in the cell above, and run it again. Then, change `and` to `or`. Did you expect the results?\n",
    "\n",
    "Besides checking of something is `True`, we can also use `if` statements to check if something is not `True`, like the below code shows. Also change `sunlight` to `False` to see how it works."
   ]
  },
  {
   "cell_type": "code",
   "execution_count": null,
   "metadata": {},
   "outputs": [],
   "source": [
    "sunlight = True\n",
    "\n",
    "# if there is no sunlight, it is night. Else, it is day\n",
    "if not sunlight:\n",
    "    print('It is night!')\n",
    "else:\n",
    "    print('It is day!')"
   ]
  },
  {
   "cell_type": "markdown",
   "metadata": {},
   "source": [
    "Now onto the final exercise of this module! In the cell below, write code to do the following steps:\n",
    "\n",
    "- Create a variable called `name` containing your full name\n",
    "- Create a variable called `famous_archaeologist` containing the string \"Indiana Jones\"\n",
    "- Use the `len()` function to get the length of both variables, and save these to 2 new variables (choose a variable name that makes sense to you)\n",
    "- Write an `if` statement that checks if your name is longer than Indiana Jones\n",
    "- If your name is longer, print \"My name is longer\"\n",
    "- Use an `else` statement to print \"My name is shorter\"\n",
    "- Don't forget to comment on your code!"
   ]
  },
  {
   "cell_type": "code",
   "execution_count": 4,
   "metadata": {},
   "outputs": [],
   "source": [
    "## EXERCISE ##\n"
   ]
  }
 ],
 "metadata": {
  "colab": {
   "collapsed_sections": [],
   "name": "spearheads-ml-test.ipynb",
   "provenance": []
  },
  "kernelspec": {
   "display_name": "Python 3",
   "language": "python",
   "name": "python3"
  },
  "language_info": {
   "codemirror_mode": {
    "name": "ipython",
    "version": 3
   },
   "file_extension": ".py",
   "mimetype": "text/x-python",
   "name": "python",
   "nbconvert_exporter": "python",
   "pygments_lexer": "ipython3",
   "version": "3.8.3"
  }
 },
 "nbformat": 4,
 "nbformat_minor": 1
}
