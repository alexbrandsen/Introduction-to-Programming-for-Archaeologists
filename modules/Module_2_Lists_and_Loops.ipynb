{
 "cells": [
  {
   "cell_type": "markdown",
   "metadata": {},
   "source": [
    "# Module 2: Lists & Loops & Functions\n",
    "\n",
    "In this module you'll learn about:\n",
    "\n",
    "- Creating a list\n",
    "- Selecting elements from lists\n",
    "- Combining lists\n",
    "- Removing from / adding to list\n",
    "- Iterating with `for` loops\n",
    "- Dictionaries\n",
    "- Functions\n",
    "\n",
    "\n",
    "## Lists\n",
    "\n",
    "In the previous module, we looked at strings and numbers; variables containing 1 value. A `list` is a variable type that holds multiple values. Each value is called an 'element' or 'item' of the list. \n",
    "\n",
    "A list is always enclosed by square brackets `[]` and accepts items in a row separated by commas (`,`). A list can contain any combination of Python data types — strings, numbers, or booleans all mixed together. However, generally it's best to use just 1 type within a list, to keep things simple.\n",
    "\n",
    "Below, we've defined a list containing 3 strings: artefact types. Try printing the `artefact_types` variable to see what's inside:"
   ]
  },
  {
   "cell_type": "code",
   "execution_count": null,
   "metadata": {},
   "outputs": [],
   "source": [
    "# define list\n",
    "artefact_types = ['pottery', 'flint', 'bone']\n",
    "\n",
    "# print list here:\n"
   ]
  },
  {
   "cell_type": "markdown",
   "metadata": {},
   "source": [
    "Of course, we can also make a list with numbers instead of strings:"
   ]
  },
  {
   "cell_type": "code",
   "execution_count": null,
   "metadata": {},
   "outputs": [],
   "source": [
    "# define list\n",
    "artefact_weights = [23, 653, 95]\n",
    "\n",
    "# print weights\n",
    "print(artefact_weights)"
   ]
  },
  {
   "cell_type": "markdown",
   "metadata": {},
   "source": [
    "Remember the `len()` function from last module? When used on a string, it returns the number or characters. But we can also use it on a list, in which case it returns the number of elements. \n",
    "\n",
    "Time for the first exercise already! In the cell below, use the `len()` function to print the number of elements in `artefact_types`:"
   ]
  },
  {
   "cell_type": "code",
   "execution_count": null,
   "metadata": {},
   "outputs": [],
   "source": [
    "## EXERCISE ##\n"
   ]
  },
  {
   "cell_type": "markdown",
   "metadata": {},
   "source": [
    "## Selecting elements\n",
    "\n",
    "Sometimes we want to fetch one particular element from a list. This can be done using the element's *index*. Imagine all the elements in a list being numbered: that number is the index. However, unlike normal counting, Python starts counting from zero instead of one! This is something to keep in mind.\n",
    "\n",
    "To fetch an element with a specific index, we can type the variable name followed by square brackets (`[]`), with the index number between the brackets, like so:"
   ]
  },
  {
   "cell_type": "code",
   "execution_count": null,
   "metadata": {},
   "outputs": [],
   "source": [
    "# get the first element (index = 0) of the artefact_types list\n",
    "first_element = artefact_types[0]\n",
    "\n",
    "# print the first element\n",
    "print(first_element)"
   ]
  },
  {
   "cell_type": "markdown",
   "metadata": {},
   "source": [
    "Change the index above to try and fetch the second and third element.\n",
    "\n",
    "Besides counting from the left (forward indexing), Python also allows you to count from the right (backward indexing). This is particularily handy if you want the last element of a list, and don't know for sure how long the list is. Counting from the right is done by using a negative index, so adding a `-`:"
   ]
  },
  {
   "cell_type": "code",
   "execution_count": null,
   "metadata": {},
   "outputs": [],
   "source": [
    "# get the last element (index = -1) of the artefact_types list\n",
    "last_element = artefact_types[-1]\n",
    "\n",
    "# print the last element\n",
    "print(last_element)"
   ]
  },
  {
   "attachments": {
    "image.png": {
     "image/png": "[encoded data removed]"
    }
   },
   "cell_type": "markdown",
   "metadata": {},
   "source": [
    "Below is a figure illustrating the forward index and backward index on a list containing the numbers 1 to 7:\n",
    "\n",
    "![image.png](attachment:image.png)\n",
    "\n",
    "## Slicing a list\n",
    "\n",
    "Besides getting 1 element, it is also possible to get a number of elements from a list. This is called slicing (like slicing a pie!). To fetch a slice, you use almost the same syntax as when getting just 1 element, but you have to tell Python where to start and stop the slice, by using a colon (`:`). So this looks like `variable[start:stop]`.\n",
    "\n",
    "The key point to remember is that the stop value represents the first value that is not in the selected slice. So, the difference between stop and start is the number of elements selected. This might sound a bit complicated, so let's look at an example:"
   ]
  },
  {
   "cell_type": "code",
   "execution_count": null,
   "metadata": {},
   "outputs": [],
   "source": [
    "# get slice from the first element, to the second element\n",
    "first_two_types = artefact_types[0:2]\n",
    "print(first_two_types)"
   ]
  },
  {
   "cell_type": "markdown",
   "metadata": {},
   "source": [
    "We can also leave either the start or stop empty, which means 'from the start' and 'to the end' respectively."
   ]
  },
  {
   "cell_type": "code",
   "execution_count": null,
   "metadata": {},
   "outputs": [],
   "source": [
    "# print slice from the first element, to the second element \n",
    "print(artefact_types[:2])\n",
    "\n",
    "# print slice from the second element, up to and including the last element\n",
    "print(artefact_types[1:])\n",
    "\n"
   ]
  },
  {
   "attachments": {
    "image.png": {
     "image/png": "[encoded data removed]"
    }
   },
   "cell_type": "markdown",
   "metadata": {},
   "source": [
    "Cheat sheet for slices:\n",
    "\n",
    "    a[start:stop]  # elements start through stop-1\n",
    "    a[start:]      # elements start through the rest of the list\n",
    "    a[:stop]       # elements from the beginning through stop-1\n",
    "    a[:]           # a copy of the whole list\n",
    "    \n",
    "Another way to visuale index and slice:\n",
    "\n",
    "![image.png](attachment:image.png)\n",
    "\n",
    "Don't worry if you can't remember exactly how this works! Unless you work with this regularily, most people will need to look this up whenever they need list slices."
   ]
  },
  {
   "cell_type": "markdown",
   "metadata": {},
   "source": [
    "## Editing lists\n",
    "\n",
    "Like strings and numbers, we can also combine lists, using `+`."
   ]
  },
  {
   "cell_type": "code",
   "execution_count": null,
   "metadata": {},
   "outputs": [],
   "source": [
    "# define weights\n",
    "pottery_weights = [12, 45]\n",
    "flint_weights = [42, 10]\n",
    "\n",
    "# combine weights\n",
    "all_weights = pottery_weights + flint_weights\n",
    "\n",
    "# print combined weights\n",
    "print(all_weights)"
   ]
  },
  {
   "cell_type": "markdown",
   "metadata": {},
   "source": [
    "Instead of adding a list to a list with `+`, we can also just add 1 more element to a list using the `append()` function:"
   ]
  },
  {
   "cell_type": "code",
   "execution_count": null,
   "metadata": {},
   "outputs": [],
   "source": [
    "# define current sites\n",
    "sites_found = ['Teotihuacán', 'Giza', 'Atlantis']\n",
    "\n",
    "# we found another site! \n",
    "new_site = 'Ur'\n",
    "\n",
    "# add it to the list\n",
    "sites_found.append(new_site)\n",
    "\n",
    "# print updated list\n",
    "print(sites_found)"
   ]
  },
  {
   "cell_type": "markdown",
   "metadata": {},
   "source": [
    "Similarly, we can remove elements using the `remove()` function:"
   ]
  },
  {
   "cell_type": "code",
   "execution_count": null,
   "metadata": {},
   "outputs": [],
   "source": [
    "# Atlantis was a hoax! Let's remove it from our list\n",
    "sites_found.remove('Atlantis')\n",
    "\n",
    "# print updated list\n",
    "print(sites_found)"
   ]
  },
  {
   "cell_type": "markdown",
   "metadata": {},
   "source": [
    "## Sorting lists\n",
    "\n",
    "List variables have a range of special functions specifically made for lists. We've already seen `.append()` and `.remove()` to add and remove items in a list. We can also sort lists, using `.sort()`. Lists of strings are sorted alphabetically, lists of numbers are sorted numerically:"
   ]
  },
  {
   "cell_type": "code",
   "execution_count": null,
   "metadata": {},
   "outputs": [],
   "source": [
    "# sort our sites list and print it\n",
    "sites_found.sort()\n",
    "print(sites_found)"
   ]
  },
  {
   "cell_type": "markdown",
   "metadata": {},
   "source": [
    "By default, `sort()` sorts A to Z and smallest to largest (for strings and numbers respectively), but we can also reverse that by adding an argument to the function:"
   ]
  },
  {
   "cell_type": "code",
   "execution_count": null,
   "metadata": {},
   "outputs": [],
   "source": [
    "# sort list of weights big to small and print it\n",
    "weights = [35, 95.239, 12.94]\n",
    "weights.sort(reverse=True)\n",
    "print(weights)"
   ]
  },
  {
   "cell_type": "markdown",
   "metadata": {},
   "source": [
    "Time for another exercise! In the below cell, write code that does the following:\n",
    "\n",
    "- Append another artefact to the provided list (pick your favourite artefact, or make one up!)\n",
    "- Remove the first element in the list\n",
    "- Define a new variable called `selected_artefacts` that contains a slice containing the first 3 elements\n",
    "- Sort `selected_artefacts` in reverse alphabetical order (so Z to A)\n",
    "- Print the last element of `selected_artefacts`"
   ]
  },
  {
   "cell_type": "code",
   "execution_count": null,
   "metadata": {},
   "outputs": [],
   "source": [
    "## EXERCISE ##\n",
    "\n",
    "# define list of famous artefacts\n",
    "famous_artefacts = ['Nebra Disc', 'Rosetta Stone', 'Antikythera Mechanism', 'Staffordshire Hoard']\n",
    "\n",
    "# your code goes here\n"
   ]
  },
  {
   "cell_type": "markdown",
   "metadata": {},
   "source": [
    "## Loops\n",
    "\n",
    "Having a list of things is a useful way to store information, but even more useful is the ability to *iterate* over a list. Iterating just means to go through each element of a list, and then do something with that element. Such a repetition of a computation is called a loop. In Python, one of the most used loops is the `for` loop. This simply means that *for* each item in a list, we do something.\n",
    "\n",
    "A basic basic for loop will consist of two lines:\n",
    "\n",
    "- On the first line, you type the English word `for`, a new variable name for each item in the list, the English word `in`, the name of the list you want to iterate over, and a colon (`:`)\n",
    "- On the second line, you indent and write an instruction or 'statement' to be completed for each item in the list\n",
    "\n",
    "So if we wanted to loop through our sites and print each site, that would look like this:"
   ]
  },
  {
   "cell_type": "code",
   "execution_count": null,
   "metadata": {},
   "outputs": [],
   "source": [
    "# loop through sites\n",
    "for site in sites_found:\n",
    "    \n",
    "    # print each site\n",
    "    print(site)"
   ]
  },
  {
   "cell_type": "markdown",
   "metadata": {},
   "source": [
    "Of course, this particular loop isn't very useful, as the output is basically the same as `print(sites_found)`. But when we combine loops with `if` statements, or other functions, this can be very useful:"
   ]
  },
  {
   "cell_type": "code",
   "execution_count": null,
   "metadata": {},
   "outputs": [],
   "source": [
    "# loop through weights\n",
    "for weight in weights:\n",
    "    \n",
    "    # if weight is more than 30\n",
    "    if weight > 30:\n",
    "        \n",
    "        # print the weight\n",
    "        print(weight)"
   ]
  },
  {
   "cell_type": "code",
   "execution_count": null,
   "metadata": {},
   "outputs": [],
   "source": [
    "# loop through weights\n",
    "for weight in weights:\n",
    "    \n",
    "    # convert weight from kilograms to grams, and print it\n",
    "    gram_weight = weight * 1000\n",
    "    print(gram_weight)\n",
    "    "
   ]
  },
  {
   "cell_type": "markdown",
   "metadata": {},
   "source": [
    "Another exercise! We have two lists, `total_artefact_weights` and `flint_weights`. But the weights in `total_artefact_weights` were measured in kilograms, while the flint was measured in grams. We want to combine both lists to end up with a complete list of artefact weights in kilograms, including flint.\n",
    "\n",
    "- Write a loop that iterates over the provided list `flint_weights`\n",
    "- For each flint weight, divide the weight by 1000 to convert it to kilograms, then append that weight to `total_artefact_weights`\n",
    "- After the loop, sort the total weights\n",
    "- Finally, print the total weights"
   ]
  },
  {
   "cell_type": "code",
   "execution_count": null,
   "metadata": {},
   "outputs": [],
   "source": [
    "## EXERCISE ##\n",
    "\n",
    "# define weight lists\n",
    "total_artefact_weights = [1.495, 48.2, 100] # in kilograms\n",
    "flint_weights = [1023, 459, 2304] # in grams\n",
    "\n",
    "# your code goes here\n"
   ]
  },
  {
   "cell_type": "markdown",
   "metadata": {},
   "source": [
    "## Dictionaries\n",
    "\n",
    "Dictionaries are similar to lists: they hold any number of values. But instead of using an index number (`list[1]`), we instead can use a string to fetch certain elements, which is much more easy to interpret.\n",
    "\n",
    "### Key-Value\n",
    "\n",
    "A dictionary is made up of \"key\"-\"value\" pairs, which are separated by a colon `:` and separated from other key-value pairs by a comma `,`. A dictionary is always enclosed by curly brackets `{}`.\n",
    "\n",
    "Below, a dictionary is defined that contains information about Indiana Jones:"
   ]
  },
  {
   "cell_type": "code",
   "execution_count": null,
   "metadata": {},
   "outputs": [],
   "source": [
    "# define and print dict containing info about Indy\n",
    "indy = {'name': 'Indiana Jones', 'year_of_birth': 1899, 'job': 'Archaeologist', 'parents': ['Henry Walton Jones, Sr.', 'Anna Mary Jones'] }\n",
    "print(indy)"
   ]
  },
  {
   "cell_type": "markdown",
   "metadata": {},
   "source": [
    "As you can see, dictionaries can be very long, so defining them on 1 line of code makes it hard to read. Instead, we can split it over multiple lines, to aid code comprehension:"
   ]
  },
  {
   "cell_type": "code",
   "execution_count": null,
   "metadata": {},
   "outputs": [],
   "source": [
    "# define and print dict containing info about Indy, with better layout\n",
    "indy = {\n",
    "    'name': 'Indiana Jones', \n",
    "    'year_of_birth': 1899, \n",
    "    'job': 'Archaeologist', \n",
    "    'parents': ['Henry Walton Jones, Sr.', 'Anna Mary Jones'] \n",
    "}\n",
    "print(indy)"
   ]
  },
  {
   "cell_type": "markdown",
   "metadata": {},
   "source": [
    "In the cell above, we have defined the variable `indy`, which contains the name, year of birth, job, and parents of Indiana Jones. The first element contains his name, in which case `name` is the key, and `'Indiana Jones'` is the value. \n",
    "\n",
    "To see all the keys or values in a dictionary, we can use the `.keys()` and `.values()` functions:"
   ]
  },
  {
   "cell_type": "code",
   "execution_count": null,
   "metadata": {},
   "outputs": [],
   "source": [
    "# print keys and values\n",
    "print(indy.keys())\n",
    "print(indy.values())"
   ]
  },
  {
   "cell_type": "markdown",
   "metadata": {},
   "source": [
    "Keys always need to be either a string or a number, but values can be anything: a string, a number, a boolean, a list, or even another dictionary! In `indy`, the value for `parents` is a list. To retrieve that list, we can use the key in square brackets and quotes (`['key_goes_here']`)"
   ]
  },
  {
   "cell_type": "code",
   "execution_count": null,
   "metadata": {},
   "outputs": [],
   "source": [
    "# fetch and print the value for 'parents'\n",
    "print(indy['parents'])"
   ]
  },
  {
   "cell_type": "markdown",
   "metadata": {},
   "source": [
    "Try printing Indy's name and job in the above cell!\n",
    "\n",
    "Like lists, we can update items. Calling Indy an archaeologist is a bit of a stretch... Let's fix that:"
   ]
  },
  {
   "cell_type": "code",
   "execution_count": null,
   "metadata": {},
   "outputs": [],
   "source": [
    "# update indy's job, print it\n",
    "indy['job'] = 'Grave Robber'\n",
    "print(indy)"
   ]
  },
  {
   "cell_type": "markdown",
   "metadata": {},
   "source": [
    "So very similar to assigning variables, we can just use `=` to update a value in a dictionary. We can also add a new key-value pair in exactly the same way:"
   ]
  },
  {
   "cell_type": "code",
   "execution_count": null,
   "metadata": {},
   "outputs": [],
   "source": [
    "# add indy's nationality, print it\n",
    "indy['nationality'] = 'American'\n",
    "print(indy)"
   ]
  },
  {
   "cell_type": "markdown",
   "metadata": {},
   "source": [
    "Short dictionary exercise, in the cell below, do the following:\n",
    "\n",
    "- Calculate his age if he were alive now, save it to a new variable\n",
    "- Save his age in the dictionary, with a new key\n",
    "- Print the dictionary again\n",
    "- Bonus points: print the name of Indy's father (you will need to use a list index!)\n",
    "\n",
    "Do you think saving his age in the dictionary is a good idea? Why, or why not?"
   ]
  },
  {
   "cell_type": "code",
   "execution_count": null,
   "metadata": {},
   "outputs": [],
   "source": [
    "## EXERCISE ##\n",
    "\n"
   ]
  },
  {
   "cell_type": "markdown",
   "metadata": {},
   "source": [
    "Like lists, we can also iterate over dictionaries in a loop. However, as dictionaries are more complex, the syntax is slightly different than with lists. As each item in the dictionary has both a key and a value, we need to tell Python we want both available in our loop, so we say `for key, value`, where `key` and `value` can be any word you choose. Instead of doing `in indy` like we would do with lists, we do `in indy.items()` instead, `.items()` is a special function that returns the key and value. All together, that looks something like this:"
   ]
  },
  {
   "cell_type": "code",
   "execution_count": null,
   "metadata": {},
   "outputs": [],
   "source": [
    "# loop through the dict\n",
    "for key, value in indy.items():\n",
    "    \n",
    "    # within the loop, the variable 'key' now holds each key, print it\n",
    "    print(key)\n",
    "    \n",
    "    # within the loop, the variable 'value' now holds each value, print it\n",
    "    print(value)"
   ]
  },
  {
   "cell_type": "markdown",
   "metadata": {},
   "source": [
    "That looks a bit messy though, we can print this in a nicer way:"
   ]
  },
  {
   "cell_type": "code",
   "execution_count": null,
   "metadata": {},
   "outputs": [],
   "source": [
    "# loop through the dict\n",
    "for key, value in indy.items():\n",
    "    \n",
    "    # save key-value pair with f string\n",
    "    output = f\"{key}: {value}\"\n",
    "    \n",
    "    # print output\n",
    "    print(output)"
   ]
  },
  {
   "cell_type": "markdown",
   "metadata": {},
   "source": [
    "Did you notice the `f` and variables in curly brackets? As the values can be anything, from a string to a list, we here use what's called an \"f string\". Instead of using `+` to combine strings and `str()` to convert variables to strings, the f string takes care of all of that for you. You just need to write `f` before the quotes delimiting the string, and then use curly brackets (`{}`) and the variable name to insert variables into the string. \n",
    "\n",
    "This makes it really easy to print stuff as you don't need to check the variable types!"
   ]
  },
  {
   "cell_type": "code",
   "execution_count": null,
   "metadata": {},
   "outputs": [],
   "source": [
    "# define variables\n",
    "pottery_weight = 131\n",
    "flint_weight = 42\n",
    "artefact_types = ['pottery', 'flint']\n",
    "\n",
    "# print using f string\n",
    "print(f'Pottery weighs {pottery_weight} kilograms')\n",
    "print(f'Flint weighs {flint_weight} kilograms')\n",
    "print(f'Artefact types: {artefact_types}')\n"
   ]
  },
  {
   "cell_type": "markdown",
   "metadata": {},
   "source": [
    "## Functions\n",
    "\n",
    "A function is way of bundling up code to perform specific tasks. It's kind of like making a little Python wind-up toy that runs on command.\n",
    "\n",
    "Functions are useful because they can help make your code more organised and save you from repetition. If you have to do some task over and over again, you don't want to write out the same code over and over again from scratch.\n",
    "\n",
    "We've encountered built-in Python functions many times already, including:\n",
    "\n",
    "- `print()`\n",
    "- `len()`\n",
    "\n",
    "These functions contain bundled up code that perform specific tasks whenever we call them.\n",
    "\n",
    "### Define a Function\n",
    "\n",
    "To make your own function, you use the keyword `def`, short for define, followed by your desired name for the function, parentheses (`()`) and a colon (`:`).\n",
    "\n",
    "Then, on the following lines, you indent one tab over and write some code that you want your function to perform. \n",
    "\n",
    "Below, a function is defined that prints the chorus of the song [Stonehenge by Ylvis](https://www.youtube.com/watch?v=mbyzgeee2mg)."
   ]
  },
  {
   "cell_type": "code",
   "execution_count": null,
   "metadata": {},
   "outputs": [],
   "source": [
    "def sing_ylvis_stonehenge_chorus():\n",
    "    print(\"What's the meaning of Stonehenge?\")\n",
    "    print(\"It's killing me that no one knows,\")\n",
    "    print(\"Why it was built 5000 years ago.\")\n",
    "\n",
    "    print(\"Why did they build the Stonehenge?\")\n",
    "    print(\"How could they raise the stones so high?\")\n",
    "    print(\"Completely without the technology we have today?\")"
   ]
  },
  {
   "cell_type": "markdown",
   "metadata": {},
   "source": [
    "### Call a Function\n",
    "\n",
    "As you can see, the definition of the function `sing_ylvis_stonehenge_chorus()` in the cell above doesn't have any output. That is because it has been *defined*, but not yet *called*. To call a function you defined, simply type the function name plus parentheses, like so:"
   ]
  },
  {
   "cell_type": "code",
   "execution_count": null,
   "metadata": {},
   "outputs": [],
   "source": [
    "sing_ylvis_stonehenge_chorus()"
   ]
  },
  {
   "cell_type": "markdown",
   "metadata": {},
   "source": [
    "In the cell above, call the function 2 more times to see how easy it is to repeatedly re-use the same code.\n",
    "\n",
    "Below you can find 2 more functions, that print what has been found in a feature:"
   ]
  },
  {
   "cell_type": "code",
   "execution_count": null,
   "metadata": {},
   "outputs": [],
   "source": [
    "def flint_found():\n",
    "    print('We found flint!')\n",
    "    \n",
    "def pottery_found():\n",
    "    print('We found pottery!')\n",
    "    \n",
    "flint_found()\n",
    "pottery_found()"
   ]
  },
  {
   "cell_type": "markdown",
   "metadata": {},
   "source": [
    "Making a function for each possibility is not very handy... Instead, we can give a function a variable, to make the output dynamic.\n",
    "\n",
    "### Adding Parameters/Arguments\n",
    "\n",
    "You can add \"parameters\" to your functions by putting parameter names inside the parentheses.\n",
    "\n",
    "For example, we can create a function to print what we have found, by adding the parameter `artefact_type` inside the parentheses, which will require an artefact type to be passed to the function. The value you pass to the function is called an \"argument\".\n",
    "\n",
    "- parameter = artefact_type (thing that requires a value for the function)\n",
    "- argument = \"flint\" (actual value passed to function)\n",
    "\n",
    "Since parameters and arguments are so interrelated, they're sometimes confused for each other. You can read [Python's official distinction here](https://docs.python.org/3.3/faq/programming.html#faq-argument-vs-parameter)."
   ]
  },
  {
   "cell_type": "code",
   "execution_count": null,
   "metadata": {},
   "outputs": [],
   "source": [
    "# define a function, which receives artefact_type\n",
    "def show_type_found(artefact_type):\n",
    "    \n",
    "    # use artefact_type to print what type has been found\n",
    "    print(\"We have found: \"+artefact_type)\n",
    "    \n",
    "# now call the function with various arguments\n",
    "show_type_found('flint')\n",
    "show_type_found('pottery')\n",
    "show_type_found('bone')"
   ]
  },
  {
   "cell_type": "markdown",
   "metadata": {},
   "source": [
    "Great, this way we can define the function 1 time, but re-use it for every artefact type! \n",
    "\n",
    "We can also use multiple parameters, which need to be separated by commas:"
   ]
  },
  {
   "cell_type": "code",
   "execution_count": null,
   "metadata": {},
   "outputs": [],
   "source": [
    "# define a function that prints the average of 2 numbers\n",
    "def print_average(number_1, number_2):\n",
    "    \n",
    "    # calculate total\n",
    "    total = number_1 + number_2\n",
    "    \n",
    "    # calculate average\n",
    "    average = total / 2\n",
    "    \n",
    "    # print the average\n",
    "    print(\"The average is: \" + str(average)) # remember the str() function? It converts a number to a string so we can combine it with another string\n",
    "    \n",
    "# calculate an average\n",
    "print_average(394, 924)"
   ]
  },
  {
   "cell_type": "markdown",
   "metadata": {},
   "source": [
    "In the function above, change the `print()` statement from this convoluted statement using `+` and `str()` to an f string, like we did 4 cells ago.\n",
    "\n",
    "This function prints the average, which can be useful in some instances, but generally it is more useful to let a function *return* a value. Instead of printing the output, the output can be saved into a variable, at which point you can do anything with it (store it in a list, do more maths, and/or print it). \n",
    "\n",
    "To return a value, simply use the `return` keyword as the last line of your function:\n"
   ]
  },
  {
   "cell_type": "code",
   "execution_count": null,
   "metadata": {},
   "outputs": [],
   "source": [
    "# define a function that returns the average of 2 numbers\n",
    "def calculate_average(number_1, number_2):\n",
    "    \n",
    "    # calculate total\n",
    "    total = number_1 + number_2\n",
    "    \n",
    "    # calculate average\n",
    "    average = total / 2\n",
    "    \n",
    "    # return the average\n",
    "    return average\n",
    "    \n",
    "# get the average of 2 numbers, store it in a new variable\n",
    "average1 = calculate_average(394, 924)\n",
    "\n",
    "# print the average\n",
    "print(f\"The first average is: {average1}\")\n",
    "\n",
    "# get another average\n",
    "average2 = calculate_average(6981, 26)\n",
    "\n",
    "# combine the two averages into a list\n",
    "averages = [average1, average2]\n",
    "\n",
    "# print the list of averages\n",
    "print(averages)\n"
   ]
  },
  {
   "cell_type": "markdown",
   "metadata": {},
   "source": [
    "Last exercise of this module! In the cell below, define a function that returns the average for 3 numbers. Give the function a name that makes sense. Then check the function is working by calling it 2 times, each time with different numbers. "
   ]
  },
  {
   "cell_type": "code",
   "execution_count": null,
   "metadata": {},
   "outputs": [],
   "source": [
    "## EXERCISE ##\n"
   ]
  }
 ],
 "metadata": {
  "colab": {
   "collapsed_sections": [],
   "name": "spearheads-ml-test.ipynb",
   "provenance": []
  },
  "kernelspec": {
   "display_name": "Python 3",
   "language": "python",
   "name": "python3"
  },
  "language_info": {
   "codemirror_mode": {
    "name": "ipython",
    "version": 3
   },
   "file_extension": ".py",
   "mimetype": "text/x-python",
   "name": "python",
   "nbconvert_exporter": "python",
   "pygments_lexer": "ipython3",
   "version": "3.8.3"
  }
 },
 "nbformat": 4,
 "nbformat_minor": 1
}
