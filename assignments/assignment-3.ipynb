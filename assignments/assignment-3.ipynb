{
 "cells": [
  {
   "attachments": {
    "image.png": {
     "image/png": "[encoded data removed]"
    }
   },
   "cell_type": "markdown",
   "metadata": {
    "id": "wtEguwYoTJJg"
   },
   "source": [
    "# Assignment 3: DataFrames, Graphs & SQL\n",
    "\n",
    "This assignment is (again) split into 3 levels. To pass the assignment, you need to complete level 1 adequately. To get a higher grade, you will need to adequately complete more levels. You don't have to complete a level to attempt the next level.\n",
    "\n",
    "Please remember to always comment your code, so we can understand your thought process. \n",
    "\n",
    "- Level 1 correctly completed, grade: 6\n",
    "- Level 2 correctly completed, grade: 7 - 8\n",
    "- Level 3 correctly completed, grade: 9 - 10\n",
    "\n",
    "## Level 1\n",
    "\n",
    "We'll be using the grafheuvels database again, here's the ERD as a reminder of the data structure:\n",
    "\n",
    "![image.png](attachment:image.png)\n",
    "\n",
    "In the cells below, write code that does the following:\n",
    "\n",
    "- Use the `sqlite3` library to open a Connection and Cursor, with the grafheuvels.sqlite database in your 'data' folder\n",
    "- Create an overview of child graves (INDIVIDU column contains *kind*) and display it. Make a comment where you note the number of child graves which have grave goods (GRAFGIFT)\n",
    "- Get a list of just PLAATS_TOPONIEM and DATERING for all burial mound periods from the Late Bronze Age (LBT) / Early Iron Age (VYT)\n",
    "- Create a new record in the *graf* table, fill in made-up values for at least the primary key of that table, and one other column\n",
    "- Now edit the record you just added: change INDIVIDU to 'kind'\n",
    "- And finally, delete the record you added and edited\n",
    "\n",
    "There are multiple cells below, use however many you want."
   ]
  },
  {
   "cell_type": "code",
   "execution_count": null,
   "metadata": {},
   "outputs": [],
   "source": [
    "# your code goes here:\n"
   ]
  },
  {
   "cell_type": "code",
   "execution_count": null,
   "metadata": {},
   "outputs": [],
   "source": []
  },
  {
   "cell_type": "code",
   "execution_count": null,
   "metadata": {},
   "outputs": [],
   "source": []
  },
  {
   "cell_type": "code",
   "execution_count": null,
   "metadata": {},
   "outputs": [],
   "source": []
  },
  {
   "cell_type": "code",
   "execution_count": null,
   "metadata": {},
   "outputs": [],
   "source": []
  },
  {
   "cell_type": "code",
   "execution_count": null,
   "metadata": {},
   "outputs": [],
   "source": []
  },
  {
   "cell_type": "code",
   "execution_count": null,
   "metadata": {},
   "outputs": [],
   "source": []
  },
  {
   "cell_type": "code",
   "execution_count": null,
   "metadata": {},
   "outputs": [],
   "source": []
  },
  {
   "cell_type": "markdown",
   "metadata": {},
   "source": [
    "In the cells below, do the following:\n",
    "\n",
    "- Load the whole *grafheuvelgroep* table into a DataFrame\n",
    "- Using Seaborn, make a scatter plot of COORDX vs COORDY, and set the hue to URNENVELD\n",
    "- Make a query on *grafheuvelgroep* that selects records where XCOORD is bigger than 0, save that as a dataframe, and plot the scatter plot again\n",
    "- Make a bar chart (using `countplot`) of the OPGRSJAAR column, and set the xticks rotation to 90"
   ]
  },
  {
   "cell_type": "code",
   "execution_count": null,
   "metadata": {},
   "outputs": [],
   "source": [
    "# your code goes here:\n"
   ]
  },
  {
   "cell_type": "code",
   "execution_count": null,
   "metadata": {},
   "outputs": [],
   "source": []
  },
  {
   "cell_type": "code",
   "execution_count": null,
   "metadata": {},
   "outputs": [],
   "source": []
  },
  {
   "cell_type": "code",
   "execution_count": null,
   "metadata": {},
   "outputs": [],
   "source": []
  },
  {
   "cell_type": "code",
   "execution_count": null,
   "metadata": {},
   "outputs": [],
   "source": []
  },
  {
   "cell_type": "code",
   "execution_count": null,
   "metadata": {},
   "outputs": [],
   "source": []
  },
  {
   "cell_type": "code",
   "execution_count": null,
   "metadata": {},
   "outputs": [],
   "source": []
  },
  {
   "cell_type": "markdown",
   "metadata": {},
   "source": [
    "## Level 2\n",
    "\n",
    "In the cells below, do the following:\n",
    "\n",
    "- Update the URNENVELD field in *grafheuvelgroep* so 'j' becomes 'Yes' and 'n' becomes 'No'\n",
    "- Save the whole table as a DataFrame and plot a scatter plot with COORDY / COORDX as the axis, and URNENVELD as the hue. \n",
    "- Update the legend title to \"Urn field\", set the Seaborn style to 'whitegrid' and the palette to 'colorblind'\n"
   ]
  },
  {
   "cell_type": "code",
   "execution_count": null,
   "metadata": {
    "id": "how1RUwHTRIE"
   },
   "outputs": [],
   "source": [
    "# your code goes here:\n"
   ]
  },
  {
   "cell_type": "code",
   "execution_count": null,
   "metadata": {},
   "outputs": [],
   "source": []
  },
  {
   "cell_type": "code",
   "execution_count": null,
   "metadata": {},
   "outputs": [],
   "source": []
  },
  {
   "cell_type": "code",
   "execution_count": null,
   "metadata": {},
   "outputs": [],
   "source": []
  },
  {
   "cell_type": "code",
   "execution_count": null,
   "metadata": {},
   "outputs": [],
   "source": []
  },
  {
   "cell_type": "code",
   "execution_count": null,
   "metadata": {},
   "outputs": [],
   "source": []
  },
  {
   "cell_type": "code",
   "execution_count": null,
   "metadata": {},
   "outputs": [],
   "source": []
  },
  {
   "cell_type": "markdown",
   "metadata": {},
   "source": [
    "In the cells below, do the following:\n",
    "\n",
    "- Load the pottery.csv file from the data folder into a DataFrame\n",
    "- Make and display a scatter plot displaying height vs base_diam with shape_class as hue\n",
    "- Now create a [regplot](https://seaborn.pydata.org/generated/seaborn.regplot.html) displaying height vs base_diam\n",
    "- Make a comment where you explain what you think this line through the graph means. Bonus points: also explain what the light blue area around the line means."
   ]
  },
  {
   "cell_type": "code",
   "execution_count": null,
   "metadata": {},
   "outputs": [],
   "source": [
    "# your code goes here:\n",
    "\n"
   ]
  },
  {
   "cell_type": "code",
   "execution_count": null,
   "metadata": {},
   "outputs": [],
   "source": []
  },
  {
   "cell_type": "code",
   "execution_count": null,
   "metadata": {},
   "outputs": [],
   "source": []
  },
  {
   "cell_type": "code",
   "execution_count": null,
   "metadata": {},
   "outputs": [],
   "source": []
  },
  {
   "cell_type": "code",
   "execution_count": null,
   "metadata": {},
   "outputs": [],
   "source": []
  },
  {
   "cell_type": "code",
   "execution_count": null,
   "metadata": {},
   "outputs": [],
   "source": []
  },
  {
   "cell_type": "markdown",
   "metadata": {},
   "source": [
    "## Level 3\n",
    "\n",
    "In this level, you will have to search for certain Python / SQL methods and functions to be able to complete some of the the assignments. Try and formulate a search query that clearly describes the task you are trying to complete, and check e.g. Stackoverflow answers and online tutorials for answers. You can copy code from other people on the internet (but not from other students!), as long as you understand what it does and test it works.\n",
    "\n",
    "In the cell below, make a query selecting all the records in *grafheuvelgroep*, sorted by GRORIGIMIN (the amount of burial mounds excavated). Make sure the largest GRORIGIMIN number (43) is at the top of the resulting DataFrame. If you get stuck, have a look at all the values in that column, and try and figure out what's going on.\n"
   ]
  },
  {
   "cell_type": "code",
   "execution_count": null,
   "metadata": {},
   "outputs": [],
   "source": [
    "# your code goes here:\n"
   ]
  },
  {
   "cell_type": "markdown",
   "metadata": {},
   "source": [
    "In the cells below, do the following:\n",
    "\n",
    "- Load the pottery.csv file from the data folder into a DataFrame\n",
    "- Make and display a heatmap for the correlation between all numerical columns\n",
    "- Display the heatmap again, but annotate the correlation numbers inside each square, and set the size of the graph to `(15,15)`\n",
    "- If you see any patterns in this heatmap, add a comment in your code explaining what you see"
   ]
  },
  {
   "cell_type": "code",
   "execution_count": null,
   "metadata": {},
   "outputs": [],
   "source": [
    "# your code goes here:\n",
    " "
   ]
  },
  {
   "cell_type": "code",
   "execution_count": null,
   "metadata": {},
   "outputs": [],
   "source": []
  },
  {
   "cell_type": "code",
   "execution_count": null,
   "metadata": {},
   "outputs": [],
   "source": []
  },
  {
   "cell_type": "code",
   "execution_count": null,
   "metadata": {},
   "outputs": [],
   "source": []
  },
  {
   "cell_type": "code",
   "execution_count": null,
   "metadata": {},
   "outputs": [],
   "source": []
  },
  {
   "cell_type": "code",
   "execution_count": null,
   "metadata": {},
   "outputs": [],
   "source": []
  },
  {
   "cell_type": "markdown",
   "metadata": {},
   "source": [
    "In the cell below, using the pottery data again, make a Seaborn FacetGrid, where you create a separate scatter plot for each shape_class, plotting height vs base_diam"
   ]
  },
  {
   "cell_type": "code",
   "execution_count": null,
   "metadata": {},
   "outputs": [],
   "source": [
    "# your code goes here:\n"
   ]
  },
  {
   "cell_type": "markdown",
   "metadata": {},
   "source": [
    "In the cell below, create a query on the grafheuvels database, showing only grave gifts (GRAFGIFT in graf) and whether they are found in an urn field or not (URNENVELD in grafheuvelgroep). Only display records where an actual grave gift has been found. Sort the query by URNENVELD."
   ]
  },
  {
   "cell_type": "code",
   "execution_count": null,
   "metadata": {},
   "outputs": [],
   "source": [
    "# run query and display result\n"
   ]
  }
 ],
 "metadata": {
  "colab": {
   "collapsed_sections": [],
   "name": "spearheads-ml-test.ipynb",
   "provenance": []
  },
  "kernelspec": {
   "display_name": "Python 3",
   "language": "python",
   "name": "python3"
  },
  "language_info": {
   "codemirror_mode": {
    "name": "ipython",
    "version": 3
   },
   "file_extension": ".py",
   "mimetype": "text/x-python",
   "name": "python",
   "nbconvert_exporter": "python",
   "pygments_lexer": "ipython3",
   "version": "3.8.3"
  }
 },
 "nbformat": 4,
 "nbformat_minor": 1
}
