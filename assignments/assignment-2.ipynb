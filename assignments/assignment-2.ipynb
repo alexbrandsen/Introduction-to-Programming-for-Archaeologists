{
 "cells": [
  {
   "cell_type": "markdown",
   "metadata": {
    "id": "wtEguwYoTJJg"
   },
   "source": [
    "## Assignment 2: Lists, Loops, Functions and DataFrames\n",
    "\n",
    "This assignment is split into 3 levels. To pass the assignment, you need to complete level 1 adequately. To get a higher grade, you will need to adequately complete more levels. You don't have to complete a level to attempt the next level.\n",
    "\n",
    "Please remember to always comment your code, so we can understand your thought process. Some assignments will require you to also submit some written text explaining your reasoning and methods. (This assignment is just coding though!)\n",
    "\n",
    "- Level 1 correctly completed, grade: 6\n",
    "- Level 2 correctly completed, grade: 7 - 8\n",
    "- Level 3 correctly completed, grade: 9 - 10\n",
    "\n",
    "## Level 1\n",
    "\n",
    "In the cell below, write code that does the following:\n",
    "\n",
    "- Define a new list containing your favourite 5 colours as strings\n",
    "- Delete your least favourite colour of the 5\n",
    "- Loop through the colour list, and print each colour\n",
    "- Retrieve your most favourite colour by using it's index, and save it in a new variable\n"
   ]
  },
  {
   "cell_type": "code",
   "execution_count": null,
   "metadata": {},
   "outputs": [],
   "source": [
    "# your code goes here:\n"
   ]
  },
  {
   "cell_type": "markdown",
   "metadata": {},
   "source": [
    "In the cell below, do the following:\n",
    "\n",
    "- Load the pandas module\n",
    "- Load the spearheads.csv file from the data folder, save it as a DataFrame\n",
    "- Calculate and display the sum of the 'weight' column\n",
    "- Find out the number of rows in the DataFrame, then divide the sum of weight by the number of rows to manually calculate the average weight\n",
    "- Get the mean of 'maxle', grouped by 'mat'\n",
    "- Display all rows where 'cond' is 2 "
   ]
  },
  {
   "cell_type": "code",
   "execution_count": null,
   "metadata": {},
   "outputs": [],
   "source": [
    "# your code goes here:\n"
   ]
  },
  {
   "cell_type": "markdown",
   "metadata": {},
   "source": [
    "## Level 2\n",
    "\n",
    "Write a function that accepts the name of a time period (a string) as parameter, and uses the defined dictionary `time_periods` to look up the associated start and end date. Then the function should print a sentence saying something like \"The {time period} is defined as the period {start and end year}\"\n",
    "\n",
    "(Hint: you can put a variable in the square brackets after a dictionary to get the value, so like `time_periods[variable_name]`)"
   ]
  },
  {
   "cell_type": "code",
   "execution_count": null,
   "metadata": {
    "id": "how1RUwHTRIE"
   },
   "outputs": [],
   "source": [
    "# define grain sizes dict\n",
    "time_periods = {\n",
    "    \"stone age\" : \"1,000,000 BCE - 2000 BCE\",\n",
    "    \"bronze age\" : \"2000 BCE - 800 BCE\",\n",
    "    \"iron age\" : \"800 BCE - 13 BCE\",\n",
    "    \"roman period\" : \"13 BCE - 450 CE\",\n",
    "    \"middle ages\" : \"450 CE - 1500 CE\",\n",
    "}\n",
    "\n",
    "# your code goes here:\n",
    "\n"
   ]
  },
  {
   "cell_type": "markdown",
   "metadata": {},
   "source": [
    "In the cell below, do the following:\n",
    "\n",
    "- Using the spearheads dataset you loaded in the previous level, change the values in the 'cond' column from 1, 2, 3 and 4 to 'Excellent', 'Good', 'Fair' and 'Poor' respectively\n",
    "- Using the [.str.lower()](https://datatofish.com/lowercase-pandas-dataframe/) function, change the category names in the 'cond' column to lowercase\n",
    "- Delete all rows where 'maxle' is empty\n",
    "- Change the values in the 'mat' column from 1 and 2 to 'Bronze' and 'Iron' respectively\n",
    "- Make a cross-tabulation table (using `groupby`) showing the counts of spearheads over the 'mat' and 'cond' columns. Write a comment at the end of your code explaining how you could interpret this table archaeologically. \n"
   ]
  },
  {
   "cell_type": "code",
   "execution_count": null,
   "metadata": {},
   "outputs": [],
   "source": [
    "# your code goes here:\n",
    "\n"
   ]
  },
  {
   "cell_type": "markdown",
   "metadata": {},
   "source": [
    "## Level 3\n",
    "\n",
    "In this level, you will have to search for certain Python methods and functions to be able to complete some of the the assignments. Try and formulate a search query that clearly describes the task you are trying to complete, and check e.g. Stackoverflow answers and online tutorials for answers. You can copy code from other people on the internet (but not from other students!), as long as you understand what it does and test it works.\n",
    "\n",
    "In the cell below, loop through the `artefact_weights` dictionary. For each artefact category, calculate the average weight and display it together with the category name."
   ]
  },
  {
   "cell_type": "code",
   "execution_count": null,
   "metadata": {},
   "outputs": [],
   "source": [
    "# define list\n",
    "artefact_weights = {\n",
    "    'flint' : [34, 52.3, 23, 34.89, 54, 67],\n",
    "    'pottery' : [39.3, 34, 93, 23.76, 67.23, 42],\n",
    "    'glass' : [93, 94.2, 102.56, 39, 19, 32, 81],\n",
    "    'metal' : [154.50, 49, 20.45]\n",
    "}\n",
    "\n",
    "# your code goes here:\n"
   ]
  },
  {
   "cell_type": "markdown",
   "metadata": {},
   "source": [
    "In the cell below, write a function that takes a list of strings, and returns the longest string. Test it by calling the function with `sites` as the parameter and printing the output."
   ]
  },
  {
   "cell_type": "code",
   "execution_count": null,
   "metadata": {},
   "outputs": [],
   "source": [
    "# define list of sites\n",
    "sites = ['Ur', 'Stonehenge', 'Teotihuacán', 'Giza']\n",
    "\n",
    "# your code goes here:\n",
    " "
   ]
  },
  {
   "cell_type": "markdown",
   "metadata": {},
   "source": [
    "In the cell below, do the following:\n",
    "\n",
    "- Load the pottery.csv file from the data folder, save it as a DataFrame\n",
    "- Calculate the Correlation between the columns 'height', 'opening_diam', and 'base_diam'\n",
    "- Make a comment in your code stating which combination of variables has the highest correlation, and why you think that is\n",
    "- Get all unique options in the 'shape_class' column and save this as a list. Sort the list alphabetically, then loop through it and print all options one by one\n",
    "- Find out which shape_class has the highest average height\n",
    "- For bonus points: find out how you can get the Correlation between 'shape_class', and all other numerical columns. Which numerical column has the highest correlation with shape_class? "
   ]
  },
  {
   "cell_type": "code",
   "execution_count": null,
   "metadata": {},
   "outputs": [],
   "source": [
    "# your code goes here:\n"
   ]
  }
 ],
 "metadata": {
  "colab": {
   "collapsed_sections": [],
   "name": "spearheads-ml-test.ipynb",
   "provenance": []
  },
  "kernelspec": {
   "display_name": "Python 3",
   "language": "python",
   "name": "python3"
  },
  "language_info": {
   "codemirror_mode": {
    "name": "ipython",
    "version": 3
   },
   "file_extension": ".py",
   "mimetype": "text/x-python",
   "name": "python",
   "nbconvert_exporter": "python",
   "pygments_lexer": "ipython3",
   "version": "3.8.3"
  }
 },
 "nbformat": 4,
 "nbformat_minor": 1
}
