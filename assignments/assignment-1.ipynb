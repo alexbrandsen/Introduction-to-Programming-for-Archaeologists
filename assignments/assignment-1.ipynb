{
 "cells": [
  {
   "cell_type": "markdown",
   "metadata": {
    "id": "wtEguwYoTJJg"
   },
   "source": [
    "# Assignment 1: Variables & Basics\n",
    "\n",
    "This assignment is split into 3 levels. To pass the assignment, you need to complete level 1 adequately. To get a higher grade, you will need to do more levels. Please remember to always comment your code, so we can understand your thought process. Some assignments will require you to also submit some written text explaining your reasoning and methods. (This assignment is just coding though!)\n",
    "\n",
    "- Level 1, grade: 6\n",
    "- Level 2, grade: 7 - 8\n",
    "- Level 3, grade: 9 - 10\n",
    "\n",
    "## Level 1\n",
    "\n",
    "In the cell below, write code that does the following:\n",
    "\n",
    "- Calculate the average number of artefacts per artefact category, using the already defined variables\n",
    "- Assign the average to a new variable\n",
    "- Print the average"
   ]
  },
  {
   "cell_type": "code",
   "execution_count": 3,
   "metadata": {},
   "outputs": [],
   "source": [
    "# define artefact category counts\n",
    "number_of_flint = 385\n",
    "number_of_pottery = 3945\n",
    "number_of_bones = 34\n"
   ]
  },
  {
   "cell_type": "code",
   "execution_count": null,
   "metadata": {},
   "outputs": [],
   "source": []
  },
  {
   "cell_type": "code",
   "execution_count": null,
   "metadata": {},
   "outputs": [],
   "source": []
  },
  {
   "cell_type": "markdown",
   "metadata": {},
   "source": [
    "## Level 2\n",
    "\n",
    "In the cell below, write code that does the following:\n",
    "\n",
    "- "
   ]
  },
  {
   "cell_type": "code",
   "execution_count": null,
   "metadata": {
    "id": "how1RUwHTRIE"
   },
   "outputs": [],
   "source": []
  },
  {
   "cell_type": "markdown",
   "metadata": {},
   "source": [
    "## Level 3\n",
    "\n",
    "In the cell below, write code that does the following:\n",
    "\n",
    "- "
   ]
  },
  {
   "cell_type": "code",
   "execution_count": null,
   "metadata": {},
   "outputs": [],
   "source": []
  }
 ],
 "metadata": {
  "colab": {
   "collapsed_sections": [],
   "name": "spearheads-ml-test.ipynb",
   "provenance": []
  },
  "kernelspec": {
   "display_name": "Python 3",
   "language": "python",
   "name": "python3"
  },
  "language_info": {
   "codemirror_mode": {
    "name": "ipython",
    "version": 3
   },
   "file_extension": ".py",
   "mimetype": "text/x-python",
   "name": "python",
   "nbconvert_exporter": "python",
   "pygments_lexer": "ipython3",
   "version": "3.8.3"
  }
 },
 "nbformat": 4,
 "nbformat_minor": 1
}
