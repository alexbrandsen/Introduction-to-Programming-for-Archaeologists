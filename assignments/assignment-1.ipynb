{
 "cells": [
  {
   "cell_type": "markdown",
   "metadata": {
    "id": "wtEguwYoTJJg"
   },
   "source": [
    "# Assignment 1: Variables & Basics\n",
    "\n",
    "This assignment is split into 3 levels. To pass the assignment, you need to complete level 1 adequately. To get a higher grade, you will need to do more levels. Please remember to always comment your code, so we can understand your thought process. Some assignments will require you to also submit some written text explaining your reasoning and methods. (This assignment is just coding though!)\n",
    "\n",
    "- Level 1, grade: 6\n",
    "- Level 2, grade: 7 - 8\n",
    "- Level 3, grade: 9 - 10\n",
    "\n",
    "## Level 1\n",
    "\n",
    "In the cell below, write code that does the following:\n",
    "\n",
    "- Calculate the average number of artefacts per category, using the already defined variables\n",
    "- First, make a variable that contains the total number of artefacts (from all categories)\n",
    "- Divide that total by the number of categories to get the average, assign that to another new variable\n",
    "- Print the average"
   ]
  },
  {
   "cell_type": "code",
   "execution_count": null,
   "metadata": {},
   "outputs": [],
   "source": [
    "# define artefact category counts\n",
    "number_of_flint = 8648\n",
    "number_of_pottery = 3945\n",
    "number_of_bones = 14867\n",
    "\n",
    "# your code goes here:\n"
   ]
  },
  {
   "cell_type": "markdown",
   "metadata": {},
   "source": [
    "Now, write an `if` statement that checks if the average is higher than 9000. If so, your code should print: \"The average is over 9000!!\""
   ]
  },
  {
   "cell_type": "code",
   "execution_count": null,
   "metadata": {},
   "outputs": [],
   "source": [
    "# your code goes here:\n"
   ]
  },
  {
   "cell_type": "markdown",
   "metadata": {},
   "source": [
    "## Level 2\n",
    "\n",
    "For the quotes below, calculate the average number of characters used in the sentences, save this in a variable, and print that variable."
   ]
  },
  {
   "cell_type": "code",
   "execution_count": null,
   "metadata": {
    "id": "how1RUwHTRIE"
   },
   "outputs": [],
   "source": [
    "# define quote strings\n",
    "time_team = \"As anyone who has watched Time Team will know, the context is all in archaeology.\"\n",
    "eddie_izzard = \"And they always find in archaeology, a series of small walls.\"\n",
    "renfrew_bahn = \"Archaeology is partly the discovery of the treasures of the past, partly the work of the scientific analyst, partly the exercise of the creative imagination.\"\n",
    "\n",
    "# your code goes here:\n"
   ]
  },
  {
   "cell_type": "markdown",
   "metadata": {},
   "source": [
    "That's a lot of numbers after the decimal point. Let's fix that by using the `round()` function. First read about this function here: https://www.w3schools.com/python/ref_func_round.asp , then try to apply it to the average you calculated above, and print the average with 2 decimals, and with no decimals."
   ]
  },
  {
   "cell_type": "code",
   "execution_count": null,
   "metadata": {},
   "outputs": [],
   "source": [
    "# your code goes here:\n"
   ]
  },
  {
   "cell_type": "markdown",
   "metadata": {},
   "source": [
    "## Level 3\n",
    "\n",
    "Do the following:\n",
    "\n",
    "- Using only 1 `print()` command, print the name of the site and the number of pits at the site, separated by a colon\n",
    "- Calculate the average number of artefacts per pit (hint: you will need to solve a problem in the provided data)\n",
    "- Write an `if` / `else` statement that checks if you are new to the site. If so, print a welcome message including the `site_name`. If not, print a \"Welcome back!\" message.\n",
    "- Check if your if/else works by changing the `new_to_site` variable"
   ]
  },
  {
   "cell_type": "code",
   "execution_count": null,
   "metadata": {},
   "outputs": [],
   "source": [
    "# define site variables\n",
    "site_name = \"Chlorakas Palloures\"\n",
    "number_of_pits = 5\n",
    "total_number_of_artefacts = \"34959\"\n",
    "new_to_site = True\n",
    "\n",
    "# your code goes here:\n"
   ]
  },
  {
   "cell_type": "markdown",
   "metadata": {},
   "source": [
    "And finally, write a more complex if/else statement which checks multiple things. You will need `if`, `else`, but also `elif`, which you can learn about here: https://www.tutorialspoint.com/python/python_if_else.htm\n",
    "\n",
    "- If you are new to the site, and your name is filled in, print \"Welcome to Palloures, your_name\"\n",
    "- If you are new to the site, but your name is not filled in, print \"Welcome to Palloures\"\n",
    "- If you are not new to the site, and your name is filled in, print \"Welcome back, your_name\"\n",
    "- If you are not new to the site, and your name is also not filled in, print \"Welcome back\"\n",
    "\n",
    "Also good to know is that `if first_name` will be `False` if it has 0 characters, and will be `True` if it has 1 or more characters.\n",
    "\n",
    "Make sure you test your code with every one of the 4 combinations!"
   ]
  },
  {
   "cell_type": "code",
   "execution_count": null,
   "metadata": {},
   "outputs": [],
   "source": [
    "# define variables\n",
    "new_to_site = True\n",
    "first_name = \"\" \n",
    "\n",
    "# your code goes here:\n"
   ]
  }
 ],
 "metadata": {
  "colab": {
   "collapsed_sections": [],
   "name": "spearheads-ml-test.ipynb",
   "provenance": []
  },
  "kernelspec": {
   "display_name": "Python 3 (ipykernel)",
   "language": "python",
   "name": "python3"
  },
  "language_info": {
   "codemirror_mode": {
    "name": "ipython",
    "version": 3
   },
   "file_extension": ".py",
   "mimetype": "text/x-python",
   "name": "python",
   "nbconvert_exporter": "python",
   "pygments_lexer": "ipython3",
   "version": "3.8.16"
  }
 },
 "nbformat": 4,
 "nbformat_minor": 1
}
